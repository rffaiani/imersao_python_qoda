{
  "nbformat": 4,
  "nbformat_minor": 0,
  "metadata": {
    "colab": {
      "name": "python_practice_imersao_01.ipynb",
      "provenance": [],
      "collapsed_sections": [],
      "authorship_tag": "ABX9TyNXQsbDflpe6l7AP6jEu/Er"
    },
    "kernelspec": {
      "name": "python3",
      "display_name": "Python 3"
    }
  },
  "cells": [
    {
      "cell_type": "markdown",
      "metadata": {
        "id": "eFLRposqZ4uX"
      },
      "source": [
        "18 Exercícios de Python.  \r\n",
        "*propostos por Qoda em 09/12/2020 (Imersão Data Science)"
      ]
    },
    {
      "cell_type": "code",
      "metadata": {
        "colab": {
          "base_uri": "https://localhost:8080/"
        },
        "id": "n3tEqZMDaNzv",
        "outputId": "9495d771-1d67-4be8-a994-0dbc60e66461"
      },
      "source": [
        "#01) Faça um programa que mostre a mensagem \"Alô, mundo!\" na tela\r\n",
        "\r\n",
        "print(\"Alô, mundo!\")"
      ],
      "execution_count": null,
      "outputs": [
        {
          "output_type": "stream",
          "text": [
            "Alô, mundo!\n"
          ],
          "name": "stdout"
        }
      ]
    },
    {
      "cell_type": "code",
      "metadata": {
        "colab": {
          "base_uri": "https://localhost:8080/"
        },
        "id": "Fl3iMElmbW7Z",
        "outputId": "203ef804-8503-4a3d-949e-b88f98b3bd44"
      },
      "source": [
        "#02) Faça um programa que peça um número e então mostre a mensagem: \"O número informado foi [número]\".\r\n",
        "\r\n",
        "numero = input(\"Entre com um número: \")\r\n",
        "print(f\"O número informado foi: {numero}\")"
      ],
      "execution_count": null,
      "outputs": [
        {
          "output_type": "stream",
          "text": [
            "Entre com um número: 87\n",
            "O número informado foi: 87\n"
          ],
          "name": "stdout"
        }
      ]
    },
    {
      "cell_type": "code",
      "metadata": {
        "colab": {
          "base_uri": "https://localhost:8080/"
        },
        "id": "t1YOxzffdrWa",
        "outputId": "9c5137c9-78e4-4400-d7c1-8aa6b8e86ac4"
      },
      "source": [
        "#03) Faça um programa que peça dois números e imprima a soma.\r\n",
        "\r\n",
        "num1 = int(input(\"Entre com o primeiro número: \"))\r\n",
        "num2 = int(input(\"Entre com o segundo número: \"))\r\n",
        "soma = num1 + num2\r\n",
        "print(f\"A soma dos dois números é: {soma}\")\r\n"
      ],
      "execution_count": null,
      "outputs": [
        {
          "output_type": "stream",
          "text": [
            "Entre com o primeiro número: 10\n",
            "Entre com o segundo número: 20\n",
            "A soma dos dois números é: 30\n"
          ],
          "name": "stdout"
        }
      ]
    },
    {
      "cell_type": "code",
      "metadata": {
        "colab": {
          "base_uri": "https://localhost:8080/"
        },
        "id": "dPY5doJweWHD",
        "outputId": "56af7629-8be8-4740-c51c-c70002c969a5"
      },
      "source": [
        "#04) Faça um programa que peça 3 notas e mostre a média.\r\n",
        "\r\n",
        "nota1 = float(input(\"Entre com a primeira nota: \"))\r\n",
        "nota2 = float(input(\"Entre com a segunda nota: \"))\r\n",
        "nota3 = float(input(\"Entre com a terceira nota: \"))\r\n",
        "media = (nota1 + nota2 + nota3)/3\r\n",
        "print(f\"A média das 3 notas é: {media}\")\r\n",
        "print(f\"A média das 3 notas é: {round(media,1)}\") \r\n",
        "#já implementando com apenas 1 casa depois da vírgula - usa-se o round()\r\n"
      ],
      "execution_count": null,
      "outputs": [
        {
          "output_type": "stream",
          "text": [
            "Entre com a primeira nota: 5.5\n",
            "Entre com a segunda nota: 7\n",
            "Entre com a terceira nota: 6.3\n",
            "A média das 3 notas é: 6.266666666666667\n",
            "A média das 3 notas é: 6.3\n"
          ],
          "name": "stdout"
        }
      ]
    },
    {
      "cell_type": "code",
      "metadata": {
        "colab": {
          "base_uri": "https://localhost:8080/"
        },
        "id": "3f80q6e7fw-v",
        "outputId": "cd4a1da3-147d-40e6-f672-5f3cf9047c62"
      },
      "source": [
        "#05) Faça um programa que converta metros para centímetros.\r\n",
        "#ou seja, 1m = 100cm, 1.5m = 150cm, etc\r\n",
        "\r\n",
        "valor_m = float(input(\"Entre com o valor em metros: \"))\r\n",
        "converte_cm = valor_m * 100\r\n",
        "print(f\"O valor em centímetros é: {round(converte_cm,2)} cm\") \r\n"
      ],
      "execution_count": null,
      "outputs": [
        {
          "output_type": "stream",
          "text": [
            "Entre com o valor em metros: 2.3\n",
            "O valor em centímetros é: 230.0 cm\n"
          ],
          "name": "stdout"
        }
      ]
    },
    {
      "cell_type": "code",
      "metadata": {
        "colab": {
          "base_uri": "https://localhost:8080/"
        },
        "id": "k4SQ0hOIg7l8",
        "outputId": "4c5125a7-9d6c-49b3-e8a4-588da7da756a"
      },
      "source": [
        "#06) Faça um programa que peça 2 números e imprima o maior deles.\r\n",
        "\r\n",
        "num1 = float(input(\"Entre com o primeiro número:\"))\r\n",
        "num2 = float(input(\"Entre com o segundo número:\"))\r\n",
        "if num1 == num2:\r\n",
        "  print(\"Os números são iguais\")\r\n",
        "elif num1 > num2:\r\n",
        "  print(f\"O {num1} é maior.\")\r\n",
        "else:\r\n",
        "  print(f\"O {num2} é maior.\")\r\n"
      ],
      "execution_count": null,
      "outputs": [
        {
          "output_type": "stream",
          "text": [
            "Entre com o primeiro número:10\n",
            "Entre com o segundo número:12\n",
            "O 12.0 é maior.\n"
          ],
          "name": "stdout"
        }
      ]
    },
    {
      "cell_type": "code",
      "metadata": {
        "colab": {
          "base_uri": "https://localhost:8080/"
        },
        "id": "4dgz2qmCijPy",
        "outputId": "99506c86-fa94-455f-a665-088fcb0226ca"
      },
      "source": [
        "#07) Faça um programa que peça um valor inteiro e mostre na tela se o valor é positivo ou negativo.\r\n",
        "\r\n",
        "num1 = int(input(\"Entre com um número inteiro para saber se é positivo ou negativo: \"))\r\n",
        "if num1 > 0:\r\n",
        "   print(\"O número é positivo.\")\r\n",
        "elif num1 < 0:\r\n",
        "   print(\"O número é negativo.\")\r\n",
        "else:\r\n",
        "   print(\"Você digitou o zero.\")"
      ],
      "execution_count": null,
      "outputs": [
        {
          "output_type": "stream",
          "text": [
            "Entre com um número inteiro para saber se é positivo ou negativo: -9\n",
            "O número é negativo.\n"
          ],
          "name": "stdout"
        }
      ]
    },
    {
      "cell_type": "code",
      "metadata": {
        "colab": {
          "base_uri": "https://localhost:8080/"
        },
        "id": "iYV7RJobjkzs",
        "outputId": "187d0de9-f413-4e8c-e4bd-ff64ebb392af"
      },
      "source": [
        "#8) Faça um programa que verifique se uma letra digitada é \"F\" ou \"M\".\r\n",
        "# Conforme a letra escrever: F - Feminino; M - Masculino; ou Sexo Inválido.\r\n",
        "\r\n",
        "entrada = input(\"Entre com o sexo (M/F): \")\r\n",
        "if entrada == \"M\":\r\n",
        "  print(\"O sexo é M - Masculino.\")\r\n",
        "elif entrada == \"F\":\r\n",
        "  print(\"O sexo é F - Feminino.\")\r\n",
        "else:\r\n",
        "  print(\"Sexo inválido.\")"
      ],
      "execution_count": null,
      "outputs": [
        {
          "output_type": "stream",
          "text": [
            "Entre com o sexo (M/F): F\n",
            "O sexo é F - Feminino.\n"
          ],
          "name": "stdout"
        }
      ]
    },
    {
      "cell_type": "code",
      "metadata": {
        "colab": {
          "base_uri": "https://localhost:8080/"
        },
        "id": "NVOc_D5rlFek",
        "outputId": "8d7cfed9-3e88-4428-b1d8-bae5a0569c98"
      },
      "source": [
        "#09) Faça um programa que verifique se uma letra digitada é vogal ou consoante.\r\n",
        "\r\n",
        "letra = input(\"Entre com uma letra minúscula do alfabeto: \")\r\n",
        "if letra == \"a\" or letra == \"e\" or letra == \"i\" or letra == \"o\" or letra == \"u\":\r\n",
        "  print(\"Você digitou uma vogal!\")\r\n",
        "else:\r\n",
        "  print(\"Você digitou uma consoante!\")"
      ],
      "execution_count": null,
      "outputs": [
        {
          "output_type": "stream",
          "text": [
            "Entre com uma letra minúscula do alfabeto: i\n",
            "Você digitou uma vogal!\n"
          ],
          "name": "stdout"
        }
      ]
    },
    {
      "cell_type": "code",
      "metadata": {
        "colab": {
          "base_uri": "https://localhost:8080/"
        },
        "id": "YyFQ32BlmQXs",
        "outputId": "a105ea34-0830-45a9-c383-7fd1dc2642f0"
      },
      "source": [
        "#10) Faça um programa para a leitura de duas notas parciais de um aluno.\r\n",
        "# O programa deve calcular a média alcançada por aluno e apresentar:\r\n",
        "# aprovado se maior ou igual a 7, reprovado se menor e se for 10 aprovado com distinção.\r\n",
        "\r\n",
        "nota1 = float(input(\"Entre com a primeira nota do aluno: \"))\r\n",
        "nota2 = float(input(\"Entre com a segunda nota do aluno: \"))\r\n",
        "media = (nota1 + nota2) / 2\r\n",
        "\r\n",
        "if media ==10:\r\n",
        "  print(\"Parabéns! Você obteve a nota máxima e foi aprovado com distinção.\")\r\n",
        "\r\n",
        "elif media >= 7:\r\n",
        "  print(f\"Você foi aprovado com média: {media}.\")\r\n",
        "else:\r\n",
        "  print(f\"Infelizmente você foi reprovado. Sua média foi: {media}.\")\r\n",
        "\r\n"
      ],
      "execution_count": null,
      "outputs": [
        {
          "output_type": "stream",
          "text": [
            "Entre com a primeira nota do aluno: 3\n",
            "Entre com a segunda nota do aluno: 5\n",
            "Infelizmente você foi reprovado. Sua média foi: 4.0.\n"
          ],
          "name": "stdout"
        }
      ]
    },
    {
      "cell_type": "code",
      "metadata": {
        "colab": {
          "base_uri": "https://localhost:8080/"
        },
        "id": "QbgMHV5r5Z2l",
        "outputId": "70625224-160b-4f48-b62b-c23519555f4b"
      },
      "source": [
        "#11) Faça um programa que peça uma nota entre zero e dez. Mostre uma mensagem\r\n",
        "# caso o valor seja inválido e continue pedindo até que o usuário informe um valor válido.\r\n",
        "\r\n",
        "nota = float(input(\"Digite uma nota entre 0 e 10:  \"))\r\n",
        "\r\n",
        "while nota < 0 or nota > 10:\r\n",
        "  print(\"Valor inválido!\")\r\n",
        "  nota = float(input(\"Digite uma nota entre 0 e 10:  \"))\r\n",
        "\r\n",
        "print(f\"Ok! Nota digitada!\")\r\n"
      ],
      "execution_count": null,
      "outputs": [
        {
          "output_type": "stream",
          "text": [
            "Digite uma nota entre 0 e 10:  15\n",
            "Valor inválido!\n",
            "Digite uma nota entre 0 e 10:  15\n",
            "Valor inválido!\n",
            "Digite uma nota entre 0 e 10:  2\n",
            "Ok! Nota digitada!\n"
          ],
          "name": "stdout"
        }
      ]
    },
    {
      "cell_type": "code",
      "metadata": {
        "colab": {
          "base_uri": "https://localhost:8080/"
        },
        "id": "qcJ90sFK6a02",
        "outputId": "0aaa77e3-cbb1-4e15-a60c-8122fcfbb16f"
      },
      "source": [
        "#12) Faça um programa que leia um nome de usuário e a sua senha e não aceite a senha igual ao nome do usuário.\r\n",
        "# Mostre uma mensagem de erro e volte a pedir as informações.\r\n",
        "\r\n",
        "nome_user = input(\"Entre com o nome do usuario: \")\r\n",
        "senha_user = input(\"Entre com uma senha: \")\r\n",
        "\r\n",
        "while nome_user == senha_user :\r\n",
        "  print(\"A senha não pode ser igual ao nome!\")\r\n",
        "  nome_user = input(\"Entre com o nome do usuario: \")\r\n",
        "  senha_user = input(\"Entre com uma senha: \")\r\n",
        "\r\n",
        "print(\"Ok! Nome de usuário e senha cadastrado com sucesso!!!\")\r\n",
        "  "
      ],
      "execution_count": null,
      "outputs": [
        {
          "output_type": "stream",
          "text": [
            "Entre com o nome do usuario: rafael\n",
            "Entre com uma senha: rafael\n",
            "A senha não pode ser igual ao nome!\n",
            "Entre com o nome do usuario: rafael\n",
            "Entre com uma senha: 1234\n",
            "Ok! Nome de usuário e senha cadastrado com sucesso!!!\n"
          ],
          "name": "stdout"
        }
      ]
    },
    {
      "cell_type": "code",
      "metadata": {
        "colab": {
          "base_uri": "https://localhost:8080/"
        },
        "id": "ejE_Fg1t75UL",
        "outputId": "1ba9ae9e-126d-4245-8b15-090c21a690df"
      },
      "source": [
        "#13.1) Faça um programa que leia e valide as seguintes informações:\r\n",
        "# nome - maior que 3 caracteres = 13.1\r\n",
        "# idade - entre 0 e 150 = 13.2\r\n",
        "# salário - maior que zero = 13.3\r\n",
        "# sexo - \"m\" ou \"f\" = 13.4\r\n",
        "# estado civil: \"s\", \"c\", \"v\", \"d\" = 13.5\r\n",
        "\r\n",
        "nome = input(\"Entre com o seu nome: \")\r\n",
        "while len(nome) < 4:\r\n",
        "  print(\"Nome muito curto! Entre com pelo menos 4 caracteres...\")\r\n",
        "  nome = input(\"Entre com o seu nome: \")\r\n",
        "\r\n",
        "print(f\"OK! Você entrou com o nome: {nome}\")    "
      ],
      "execution_count": null,
      "outputs": [
        {
          "output_type": "stream",
          "text": [
            "Entre com o seu nome: bob\n",
            "Nome muito curto! Entre com pelo menos 4 caracteres...\n",
            "Entre com o seu nome: robert\n",
            "OK! Você entrou com o nome: robert\n"
          ],
          "name": "stdout"
        }
      ]
    },
    {
      "cell_type": "code",
      "metadata": {
        "colab": {
          "base_uri": "https://localhost:8080/"
        },
        "id": "Ew3dQxxm9T6a",
        "outputId": "36844cac-222c-486e-c104-c7dc6d5bf3f8"
      },
      "source": [
        "#13.2) Faça um programa que leia e valide as seguintes informações:\r\n",
        "# nome - maior que 3 caracteres => 13.1\r\n",
        "# idade - entre 0 e 150 => 13.2\r\n",
        "# salário - maior que zero => 13.3\r\n",
        "# sexo - \"m\" ou \"f\" => 13.4\r\n",
        "# estado civil: \"s\", \"c\", \"v\", \"d\" => 13.5\r\n",
        "\r\n",
        "nome = input(\"Entre com o seu nome: \")\r\n",
        "while len(nome) < 4:\r\n",
        "  print(\"Nome muito curto! Entre com pelo menos 4 caracteres...\")\r\n",
        "  nome = input(\"Entre com o seu nome: \")\r\n",
        "\r\n",
        "idade = int(input(\"Entre com a sua idade: \"))\r\n",
        "while idade < 0 or idade > 150:\r\n",
        "  print(\"Erro ao entrar com a idade: \")\r\n",
        "  idade = int(input(\"Entre com a sua idade novamente: \"))\r\n",
        "\r\n",
        "print(f\"OK! Você entrou com o nome: {nome} e idade: {idade} anos.\")    "
      ],
      "execution_count": null,
      "outputs": [
        {
          "output_type": "stream",
          "text": [
            "Entre com o seu nome: Raf\n",
            "Nome muito curto! Entre com pelo menos 4 caracteres...\n",
            "Entre com o seu nome: Ralph\n",
            "Entre com a sua idade: 190\n",
            "Erro ao entrar com a idade: \n",
            "Entre com a sua idade novamente: 37\n",
            "OK! Você entrou com o nome: Ralph e idade: 37 anos.\n"
          ],
          "name": "stdout"
        }
      ]
    },
    {
      "cell_type": "code",
      "metadata": {
        "colab": {
          "base_uri": "https://localhost:8080/"
        },
        "id": "q0BhDU-z-WZl",
        "outputId": "8100a725-8e22-475d-9a51-32fdfc4d39e5"
      },
      "source": [
        "#13.3) Faça um programa que leia e valide as seguintes informações:\r\n",
        "# nome - maior que 3 caracteres => 13.1\r\n",
        "# idade - entre 0 e 150 => 13.2\r\n",
        "# salário - maior que zero => 13.3\r\n",
        "# sexo - \"m\" ou \"f\" => 13.4\r\n",
        "# estado civil: \"s\", \"c\", \"v\", \"d\" => 13.5\r\n",
        "\r\n",
        "nome = input(\"Entre com o seu nome: \")\r\n",
        "while len(nome) < 4:\r\n",
        "  print(\"Nome muito curto! Entre com pelo menos 4 caracteres...\")\r\n",
        "  nome = input(\"Entre com o seu nome: \")\r\n",
        "\r\n",
        "idade = int(input(\"Entre com a sua idade: \"))\r\n",
        "while idade < 0 or idade > 150:\r\n",
        "  print(\"Erro ao entrar com a idade: \")\r\n",
        "  idade = int(input(\"Entre com a sua idade novamente: \"))\r\n",
        "\r\n",
        "salario = float(input(\"Entre com o seu salário: \"))\r\n",
        "while salario < 0:\r\n",
        "  print(\"Erro! Tente mais uma vez...\")\r\n",
        "  salario = float(input(\"Entre com o seu salário: R$ \"))\r\n",
        "\r\n",
        "print(f\"OK! Você entrou com o nome: {nome} e idade: {idade} anos.\")    \r\n",
        "print(f\"Você informou o seu salário no valor de R$ {salario}\")"
      ],
      "execution_count": null,
      "outputs": [
        {
          "output_type": "stream",
          "text": [
            "Entre com o seu nome: Leo\n",
            "Nome muito curto! Entre com pelo menos 4 caracteres...\n",
            "Entre com o seu nome: Leonard\n",
            "Entre com a sua idade: 55\n",
            "Entre com o seu salário: 1500.55\n",
            "OK! Você entrou com o nome: Leonard e idade: 55 anos.\n",
            "Você informou o seu salário no valor de R$ 1500.55\n"
          ],
          "name": "stdout"
        }
      ]
    },
    {
      "cell_type": "code",
      "metadata": {
        "colab": {
          "base_uri": "https://localhost:8080/"
        },
        "id": "iMspWL3H_qEx",
        "outputId": "b2f297d0-6568-4d1a-8684-ef547f2ee233"
      },
      "source": [
        "#13.4 e 13.5) Faça um programa que leia e valide as seguintes informações:\r\n",
        "# nome - maior que 3 caracteres => 13.1\r\n",
        "# idade - entre 0 e 150 => 13.2\r\n",
        "# salário - maior que zero => 13.3\r\n",
        "# sexo - \"m\" ou \"f\" => 13.4\r\n",
        "# estado civil: \"s\", \"c\", \"v\", \"d\" => 13.5\r\n",
        "\r\n",
        "nome = input(\"Entre com o seu nome: \")\r\n",
        "while len(nome) < 4:\r\n",
        "  print(\"Nome muito curto! Entre com pelo menos 4 caracteres...\")\r\n",
        "  nome = input(\"Entre com o seu nome: \")\r\n",
        "\r\n",
        "idade = int(input(\"Entre com a sua idade: \"))\r\n",
        "while idade < 0 or idade > 150:\r\n",
        "  print(\"Erro ao entrar com a idade: \")\r\n",
        "  idade = int(input(\"Entre com a sua idade novamente: \"))\r\n",
        "\r\n",
        "salario = float(input(\"Entre com o seu salário: \"))\r\n",
        "while salario < 0:\r\n",
        "  print(\"Erro! Tente mais uma vez...\")\r\n",
        "  salario = float(input(\"Entre com o seu salário: R$ \"))\r\n",
        "\r\n",
        "sexo = input(\"Digite seu sexo (m/f): \")\r\n",
        "while sexo != \"m\":   # dando erro -> or sexo != \"f\":\r\n",
        " print(\"Erro ao processar...\")\r\n",
        " sexo = input(\"Digite seu sexo (m/f) novamente: \")\r\n",
        "\r\n",
        "estado_civil = input(\"Entre com o seu estado civil (s/c/v/d): \")\r\n",
        "while estado_civil != \"s\": #r estado_civil != \"c\" or estado_civil != \"v\" or estado_civil != \"d\":\r\n",
        "  print(\"Erro!\")\r\n",
        "  estado_civil = input(\"Entre com o seu estado civil (s/c/v/d): \")\r\n",
        "  \r\n",
        "print(f\"OK! Você entrou com o nome: {nome} e idade: {idade} anos.\")    \r\n",
        "print(f\"Você informou o seu salário no valor de R$ {salario}\")\r\n",
        "print(f\"O sexo informado é {sexo} e estado civil é {estado_civil}\")"
      ],
      "execution_count": null,
      "outputs": [
        {
          "output_type": "stream",
          "text": [
            "Entre com o seu nome: raf\n",
            "Nome muito curto! Entre com pelo menos 4 caracteres...\n",
            "Entre com o seu nome: raflph\n",
            "Entre com a sua idade: 99\n",
            "Entre com o seu salário: 9900\n",
            "Digite seu sexo (m/f): r\n",
            "Erro ao processar...\n",
            "Digite seu sexo (m/f) novamente: m\n",
            "Entre com o seu estado civil (s/c/v/d): z\n",
            "Erro!\n",
            "Entre com o seu estado civil (s/c/v/d): s\n",
            "OK! Você entrou com o nome: raflph e idade: 99 anos.\n",
            "Você informou o seu salário no valor de R$ 9900.0\n",
            "O sexo informado é m e estado civil é s\n"
          ],
          "name": "stdout"
        }
      ]
    },
    {
      "cell_type": "markdown",
      "metadata": {
        "id": "dyY65oA0XmtH"
      },
      "source": [
        "Acertar o exercício 13. Por que o OR não está dando certo no WHILE?\r\n",
        "(DEIXEI COMENTADO A PARTE QUE NÃO ESTÁ FUNCIONANDO!)"
      ]
    },
    {
      "cell_type": "code",
      "metadata": {
        "id": "muDAvOXXDus4",
        "colab": {
          "base_uri": "https://localhost:8080/"
        },
        "outputId": "1eec6d14-3135-41a3-94e0-69d3ae649251"
      },
      "source": [
        "#14) Supondo que a população de um país A seja da ordem de 80.000 habitantes com uma taxa anual\r\n",
        "# de crescimento de 3% e que a população de B seja seja 200.000 com uma taxa de crescimento de 1,5%.\r\n",
        "# Faça um programa que calcule e escreva o número de anos necessários para que a população do país A\r\n",
        "#ultrapasse ou iguale a população do país B, mantidas as taxas de crescimento.\r\n",
        "\r\n",
        "popA = 80000\r\n",
        "popB = 200000\r\n",
        "percA = 0.030\r\n",
        "percB = 0.015\r\n",
        "cresc_popA = popA\r\n",
        "cresc_popB = popB\r\n",
        "print(\"A população de A é 80 mil com crescimento de 3%\")\r\n",
        "print(\"A população de B é 200 mil com crescimento de 1,5%\")\r\n",
        "\r\n",
        "i = 1\r\n",
        "while cresc_popA < cresc_popB:\r\n",
        "  cresc_popA = popA + (popA * percA)\r\n",
        "  cresc_popB = popB + (popB * percB) \r\n",
        "  popA = cresc_popA\r\n",
        "  popB = cresc_popB\r\n",
        "  i = i +1\r\n",
        "\r\n",
        "print(f\"Em {i} anos, a população do país A superará a do país B.\")\r\n"
      ],
      "execution_count": null,
      "outputs": [
        {
          "output_type": "stream",
          "text": [
            "A população de A é 80 mil com crescimento de 3%\n",
            "A população de B é 200 mil com crescimento de 1,5%\n",
            "Em 64 anos, a população do país A superará a do país B.\n"
          ],
          "name": "stdout"
        }
      ]
    },
    {
      "cell_type": "code",
      "metadata": {
        "colab": {
          "base_uri": "https://localhost:8080/"
        },
        "id": "Qeu3tx4pcAsR",
        "outputId": "54a5e9a1-318a-4d7c-80a7-41642bbcd151"
      },
      "source": [
        "#15) Altere o programa anterior permitindo ao usuário informar as populações e as taxas de crescimento iniciais.\r\n",
        "\r\n",
        "popA = float(input(\"Entre com a população do país A:\"))\r\n",
        "percA_pre = float(input(\"Entre com a taxa de crescimento do país A em %: \"))\r\n",
        "percA = percA_pre / 100\r\n",
        "\r\n",
        "popB = float(input(\"Entre com a população do país B:\"))\r\n",
        "percB_pre = float(input(\"Entre com a taxa de crescimento do país B em %: \"))\r\n",
        "percB = percB_pre / 100\r\n",
        "\r\n",
        "cresc_popA = popA\r\n",
        "cresc_popB = popB\r\n",
        "\r\n",
        "i = 1\r\n",
        "\r\n",
        "while cresc_popA < cresc_popB:\r\n",
        "    cresc_popA = popA + (popA * percA)\r\n",
        "    cresc_popB = popB + (popB * percB) \r\n",
        "    popA = cresc_popA\r\n",
        "    popB = cresc_popB\r\n",
        "    i = i +1\r\n",
        "print(f\"Em {i} anos, a população do país A superará a do país B.\")\r\n",
        "\r\n"
      ],
      "execution_count": 18,
      "outputs": [
        {
          "output_type": "stream",
          "text": [
            "Entre com a população do país A:80000\n",
            "Entre com a taxa de crescimento do país A em %: 3\n",
            "Entre com a população do país B:200000\n",
            "Entre com a taxa de crescimento do país B em %: 1.5\n",
            "Em 64 anos, a população do país A superará a do país B.\n"
          ],
          "name": "stdout"
        }
      ]
    },
    {
      "cell_type": "code",
      "metadata": {
        "colab": {
          "base_uri": "https://localhost:8080/"
        },
        "id": "V3Wxlp6r6gnp",
        "outputId": "df6976b9-80e3-41e6-a7f4-b25952f73a84"
      },
      "source": [
        "#16) Faça um programa com uma função que necessite de três argumentos e que forneça a soma desses três argumentos.\r\n",
        "\r\n",
        "def Func(a, b, c):\r\n",
        "  return a + b +c\r\n",
        "Func(5, -8, 134)"
      ],
      "execution_count": 19,
      "outputs": [
        {
          "output_type": "execute_result",
          "data": {
            "text/plain": [
              "131"
            ]
          },
          "metadata": {
            "tags": []
          },
          "execution_count": 19
        }
      ]
    },
    {
      "cell_type": "code",
      "metadata": {
        "colab": {
          "base_uri": "https://localhost:8080/"
        },
        "id": "EaSXNrBc7Vr5",
        "outputId": "d5622b25-148b-4f09-e329-251a935a2e32"
      },
      "source": [
        "#17) Faça um programa com uma função que necessite de um argumento. A função retorna o valor do caractere \"P\"\r\n",
        "#se seu argumento for positivo e \"N\" se for zero ou negativo.\r\n",
        "\r\n",
        "def Func(x):\r\n",
        "  if x > 0:\r\n",
        "    return print(\"P\")\r\n",
        "  else:\r\n",
        "    return print(\"N\")\r\n",
        "\r\n",
        "Func(-3)\r\n",
        "\r\n"
      ],
      "execution_count": 23,
      "outputs": [
        {
          "output_type": "stream",
          "text": [
            "N\n"
          ],
          "name": "stdout"
        }
      ]
    },
    {
      "cell_type": "code",
      "metadata": {
        "colab": {
          "base_uri": "https://localhost:8080/"
        },
        "id": "eFZQAucK7m17",
        "outputId": "e9b9b692-c66b-47d6-9994-e07566e41d8c"
      },
      "source": [
        "#18) Faça um programa com uma função chamada somaImposto. A função possui dois parâmetros formais: taxaImposto, que\r\n",
        "#é a quantia de Imposto sobre vendas expressa em porcentagem e custo, que é o custo de um item antes do imposto.\r\n",
        "#A função \"altera\" o valor de custo para incluir o imposto sobre vendas.\r\n",
        "\r\n",
        "def somaImposto(taxaImposto, custo):\r\n",
        "  total = taxaImposto * custo\r\n",
        "  return print(f\"O custo do produto com imposto incluso é {total}\")\r\n",
        "\r\n",
        "somaImposto(1.18, 100)\r\n",
        "\r\n",
        "\r\n"
      ],
      "execution_count": 26,
      "outputs": [
        {
          "output_type": "stream",
          "text": [
            "O custo do produto com imposto incluso é 118.0\n"
          ],
          "name": "stdout"
        }
      ]
    }
  ]
}